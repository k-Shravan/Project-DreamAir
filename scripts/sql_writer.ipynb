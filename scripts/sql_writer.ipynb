{
 "cells": [
  {
   "cell_type": "markdown",
   "id": "dbcd4954-c515-4123-8f0a-7f9bbe2e2df9",
   "metadata": {},
   "source": [
    "# importing packages "
   ]
  },
  {
   "cell_type": "code",
   "execution_count": 1,
   "id": "e51bd6b2-616a-475d-9c6e-89a8977779f2",
   "metadata": {},
   "outputs": [],
   "source": [
    "import mysql.connector\n",
    "import pandas as pd"
   ]
  },
  {
   "cell_type": "code",
   "execution_count": 1,
   "id": "99215261-4106-4661-a668-b3f3a371865a",
   "metadata": {},
   "outputs": [
    {
     "name": "stdout",
     "output_type": "stream",
     "text": [
      "C:\\Users\\shrav\\Data_Analysis_Projects\\Big Projects\\Project Dream Air\\Datasets\n"
     ]
    }
   ],
   "source": [
    "%cd C:\\Users\\shrav\\Data_Analysis_Projects\\Big Projects\\Project Dream Air\\Datasets"
   ]
  },
  {
   "cell_type": "code",
   "execution_count": 2,
   "id": "b49dc07b-7402-4773-81c1-5e5389424b61",
   "metadata": {},
   "outputs": [],
   "source": [
    "def large_sql_writer(csv_file: str, insert_query: str) -> None:\n",
    "    \n",
    "    connection = mysql.connector.connect(user='root', password='password',\n",
    "                                         host='localhost',\n",
    "                                         database='dreamair')\n",
    "    cursor = connection.cursor()\n",
    "    df = pd.read_csv(csv_file)\n",
    "    data = list(df.itertuples(index=False, name=None))\n",
    "    batch_size = 20000\n",
    "    num_of_records = len(data)\n",
    "    try:\n",
    "        for i in range(0, num_of_records, batch_size):\n",
    "            batch = data[i:i + batch_size]  # Get a batch of data\n",
    "            cursor.executemany(insert_query, batch)  # Insert batch\n",
    "            connection.commit()  # Commit after each batchx\n",
    "\n",
    "        print(f\"All {len(data)} rows of {csv_file} were inserted successfully.\")\n",
    "\n",
    "    except mysql.connector.Error as err:\n",
    "        print(f\"Error: {err}\")\n",
    "        connection.rollback()  # Rollback if there's an error\n",
    "\n",
    "    finally:\n",
    "        cursor.close()\n",
    "        connection.close()"
   ]
  },
  {
   "cell_type": "code",
   "execution_count": 3,
   "id": "3a37ff3f-6e70-4cd9-9044-229b96dd2c7f",
   "metadata": {},
   "outputs": [],
   "source": [
    "def small_sql_writer(csv_file: str, insert_query: str) -> None:\n",
    "    \n",
    "    connection = mysql.connector.connect(user='root', password='password',\n",
    "                                         host='localhost',\n",
    "                                         database='dreamair')\n",
    "    cursor = connection.cursor()\n",
    "    df = pd.read_csv(csv_file)\n",
    "    data = list(df.itertuples(index=False, name=None))\n",
    "    try:\n",
    "        cursor.executemany(insert_query, data)\n",
    "        connection.commit()  # Commit the transaction\n",
    "        print(f\"{cursor.rowcount} rows of {csv_file} were inserted.\")\n",
    "\n",
    "    except mysql.connector.Error as err:\n",
    "        print(f\"Error: {err}\")\n",
    "        connection.rollback()  # Rollback if there's an error\n",
    "\n",
    "    finally:\n",
    "        cursor.close()\n",
    "        connection.close()"
   ]
  },
  {
   "cell_type": "code",
   "execution_count": 4,
   "id": "0b539a96-7723-45c1-bddd-d74f66f523dc",
   "metadata": {},
   "outputs": [
    {
     "name": "stdout",
     "output_type": "stream",
     "text": [
      "14 rows of DreamAir_Airports.csv were inserted.\n"
     ]
    }
   ],
   "source": [
    "# 1\n",
    "DreamAir_Airports = \"DreamAir_Airports.csv\"\n",
    "DreamAir_Airports_query = \"INSERT INTO DreamAir_Airports VALUES (%s, %s, %s, %s, %s)\"\n",
    "small_sql_writer(DreamAir_Airports, DreamAir_Airports_query)"
   ]
  },
  {
   "cell_type": "code",
   "execution_count": 5,
   "id": "fa689cf7-2952-4575-badc-a40806baf6f9",
   "metadata": {},
   "outputs": [
    {
     "name": "stdout",
     "output_type": "stream",
     "text": [
      "75 rows of DreamAir_Aircraft.csv were inserted.\n"
     ]
    }
   ],
   "source": [
    "# 2\n",
    "DreamAir_Aircraft = \"DreamAir_Aircraft.csv\"\n",
    "DreamAir_Aircraft_query = \"INSERT INTO DreamAir_Aircraft VALUES (%s, %s, %s, %s)\"\n",
    "small_sql_writer(DreamAir_Aircraft, DreamAir_Aircraft_query)"
   ]
  },
  {
   "cell_type": "code",
   "execution_count": 6,
   "id": "57472d6e-0be0-4ea8-b349-de22f5eb39df",
   "metadata": {},
   "outputs": [
    {
     "name": "stdout",
     "output_type": "stream",
     "text": [
      "All 275236 rows of DreamAir_2018_Customers.csv were inserted successfully.\n"
     ]
    }
   ],
   "source": [
    "# 3\n",
    "DreamAir_2018_Customers = \"DreamAir_2018_Customers.csv\"\n",
    "DreamAir_2018_Customers_query = \"INSERT INTO DreamAir_2018_Customers VALUES (%s, %s, %s, %s, %s, %s, %s)\"\n",
    "large_sql_writer(DreamAir_2018_Customers, DreamAir_2018_Customers_query)"
   ]
  },
  {
   "cell_type": "code",
   "execution_count": 7,
   "id": "c9a8c456-5297-4112-93a9-6fe0a72195a4",
   "metadata": {},
   "outputs": [
    {
     "name": "stdout",
     "output_type": "stream",
     "text": [
      "All 396452 rows of DreamAir_2019_Customers.csv were inserted successfully.\n"
     ]
    }
   ],
   "source": [
    "# 4\n",
    "DreamAir_2019_Customers = \"DreamAir_2019_Customers.csv\"\n",
    "DreamAir_2019_Customers_query = \"INSERT INTO DreamAir_2019_Customers VALUES (%s, %s, %s, %s, %s, %s, %s)\"\n",
    "large_sql_writer(DreamAir_2019_Customers, DreamAir_2019_Customers_query)"
   ]
  },
  {
   "cell_type": "code",
   "execution_count": 8,
   "id": "b41890e8-b6a4-4c59-9471-08576c2faab5",
   "metadata": {},
   "outputs": [
    {
     "name": "stdout",
     "output_type": "stream",
     "text": [
      "All 351426 rows of DreamAir_2020_Customers.csv were inserted successfully.\n"
     ]
    }
   ],
   "source": [
    "# 5\n",
    "DreamAir_2020_Customers = \"DreamAir_2020_Customers.csv\"\n",
    "DreamAir_2020_Customers_query = \"INSERT INTO DreamAir_2020_Customers VALUES (%s, %s, %s, %s, %s, %s, %s)\"\n",
    "large_sql_writer(DreamAir_2020_Customers, DreamAir_2020_Customers_query)"
   ]
  },
  {
   "cell_type": "code",
   "execution_count": 9,
   "id": "6e59e0cd-9a99-47c8-afd2-952fab9c159a",
   "metadata": {},
   "outputs": [
    {
     "name": "stdout",
     "output_type": "stream",
     "text": [
      "All 412536 rows of DreamAir_2021_Customers.csv were inserted successfully.\n"
     ]
    }
   ],
   "source": [
    "# 5\n",
    "DreamAir_2021_Customers = \"DreamAir_2021_Customers.csv\"\n",
    "DreamAir_2021_Customers_query = \"INSERT INTO DreamAir_2021_Customers VALUES (%s, %s, %s, %s, %s, %s, %s)\"\n",
    "large_sql_writer(DreamAir_2021_Customers, DreamAir_2021_Customers_query)"
   ]
  },
  {
   "cell_type": "code",
   "execution_count": 10,
   "id": "ccb06eb3-4d03-45e4-a228-aa8017486c1b",
   "metadata": {},
   "outputs": [
    {
     "name": "stdout",
     "output_type": "stream",
     "text": [
      "182 rows of DreamAir_Routes.csv were inserted.\n"
     ]
    }
   ],
   "source": [
    "# 6\n",
    "DreamAir_Routes = \"DreamAir_Routes.csv\"\n",
    "DreamAir_Routes_query = \"INSERT INTO DreamAir_Routes values (%s, %s, %s, %s, %s, %s)\"\n",
    "small_sql_writer(DreamAir_Routes, DreamAir_Routes_query)"
   ]
  },
  {
   "cell_type": "code",
   "execution_count": 11,
   "id": "c9a53b98-4ea6-4ad9-9739-e5b5a16b7e5a",
   "metadata": {},
   "outputs": [
    {
     "name": "stdout",
     "output_type": "stream",
     "text": [
      "280 rows of Hike_Dates.csv were inserted.\n"
     ]
    }
   ],
   "source": [
    "# 7\n",
    "Hike_Dates = \"Hike_Dates.csv\"\n",
    "Hike_Dates_query = \"INSERT INTO Hike_Dates VALUES (%s)\"\n",
    "small_sql_writer(Hike_Dates, Hike_Dates_query)"
   ]
  },
  {
   "cell_type": "code",
   "execution_count": 4,
   "id": "b137b61b-9c1e-4533-89c7-469388996bad",
   "metadata": {},
   "outputs": [
    {
     "name": "stdout",
     "output_type": "stream",
     "text": [
      "28 rows of DreamAir_Job_Roles.csv were inserted.\n"
     ]
    }
   ],
   "source": [
    "# 8\n",
    "DreamAir_Job_Roles = \"DreamAir_Job_Roles.csv\"\n",
    "DreamAir_Job_Roles_query = \"INSERT INTO DreamAir_Job_Roles VALUES (%s, %s, %s)\"\n",
    "small_sql_writer(DreamAir_Job_Roles, DreamAir_Job_Roles_query)"
   ]
  },
  {
   "cell_type": "code",
   "execution_count": 5,
   "id": "ce922030-2ae1-458f-8e69-e04985771145",
   "metadata": {},
   "outputs": [
    {
     "name": "stdout",
     "output_type": "stream",
     "text": [
      "212 rows of DreamAir_Ground_Staffs.csv were inserted.\n"
     ]
    }
   ],
   "source": [
    "# 9\n",
    "DreamAir_Ground_Staffs = \"DreamAir_Ground_Staffs.csv\"\n",
    "DreamAir_Ground_Staffs_query = \"INSERT INTO DreamAir_Ground_Staffs VALUES (%s, %s, %s, %s, %s, %s)\"\n",
    "small_sql_writer(DreamAir_Ground_Staffs, DreamAir_Ground_Staffs_query)"
   ]
  },
  {
   "cell_type": "code",
   "execution_count": 6,
   "id": "aca9ce8d-01e6-4b7c-ab28-0a599b77b97c",
   "metadata": {},
   "outputs": [
    {
     "name": "stdout",
     "output_type": "stream",
     "text": [
      "2175 rows of DreamAir_On_Flight_Staffs.csv were inserted.\n"
     ]
    }
   ],
   "source": [
    "# 10\n",
    "DreamAir_On_Flight_Staffs = \"DreamAir_On_Flight_Staffs.csv\"\n",
    "DreamAir_On_Flight_Staffs_query = \"INSERT INTO DreamAir_On_Flight_Staffs VALUES (%s, %s, %s, %s, %s, %s, %s)\"\n",
    "small_sql_writer(DreamAir_On_Flight_Staffs, DreamAir_On_Flight_Staffs_query)"
   ]
  },
  {
   "cell_type": "code",
   "execution_count": 16,
   "id": "9857e401-40f7-4fc0-b115-01f71d80e7de",
   "metadata": {},
   "outputs": [
    {
     "name": "stdout",
     "output_type": "stream",
     "text": [
      "5787 rows of DreamAir_2018_Schedule.csv were inserted.\n"
     ]
    }
   ],
   "source": [
    "# 12\n",
    "DreamAir_2018_Schedule = \"DreamAir_2018_Schedule.csv\"\n",
    "DreamAir_2018_Schedule_query = \"INSERT INTO DreamAir_2018_Schedule VALUES (%s, %s, %s, %s, %s)\"\n",
    "small_sql_writer(DreamAir_2018_Schedule, DreamAir_2018_Schedule_query)"
   ]
  },
  {
   "cell_type": "code",
   "execution_count": 17,
   "id": "a540d5c2-4ffa-4d2b-a916-9cab1b73327e",
   "metadata": {},
   "outputs": [
    {
     "name": "stdout",
     "output_type": "stream",
     "text": [
      "5787 rows of DreamAir_2019_Schedule.csv were inserted.\n"
     ]
    }
   ],
   "source": [
    "# 13\n",
    "DreamAir_2019_Schedule = \"DreamAir_2019_Schedule.csv\"\n",
    "DreamAir_2019_Schedule_query = \"INSERT INTO DreamAir_2019_Schedule VALUES (%s, %s, %s, %s, %s)\"\n",
    "small_sql_writer(DreamAir_2019_Schedule, DreamAir_2019_Schedule_query)"
   ]
  },
  {
   "cell_type": "code",
   "execution_count": 18,
   "id": "c56dcbd2-33cc-4082-9376-db04e960d92e",
   "metadata": {},
   "outputs": [
    {
     "name": "stdout",
     "output_type": "stream",
     "text": [
      "5802 rows of DreamAir_2020_Schedule.csv were inserted.\n"
     ]
    }
   ],
   "source": [
    "# 14\n",
    "DreamAir_2020_Schedule = \"DreamAir_2020_Schedule.csv\"\n",
    "DreamAir_2020_Schedule_query = \"INSERT INTO DreamAir_2020_Schedule VALUES (%s, %s, %s, %s, %s)\"\n",
    "small_sql_writer(DreamAir_2020_Schedule, DreamAir_2020_Schedule_query)"
   ]
  },
  {
   "cell_type": "code",
   "execution_count": 19,
   "id": "76baa5e4-bde9-4b8e-a87b-1669cd1e574f",
   "metadata": {},
   "outputs": [
    {
     "name": "stdout",
     "output_type": "stream",
     "text": [
      "5787 rows of DreamAir_2021_Schedule.csv were inserted.\n"
     ]
    }
   ],
   "source": [
    "DreamAir_2021_Schedule = \"DreamAir_2021_Schedule.csv\"\n",
    "DreamAir_2021_Schedule_query = \"INSERT INTO DreamAir_2021_Schedule VALUES (%s, %s, %s, %s, %s)\"\n",
    "small_sql_writer(DreamAir_2021_Schedule, DreamAir_2021_Schedule_query)"
   ]
  },
  {
   "cell_type": "code",
   "execution_count": 20,
   "id": "35f3bd94-b7b6-474f-b069-ab8b36604753",
   "metadata": {},
   "outputs": [
    {
     "name": "stdout",
     "output_type": "stream",
     "text": [
      "All 937860 rows of DreamAir_2018_Orders.csv were inserted successfully.\n"
     ]
    }
   ],
   "source": [
    "# 15\n",
    "DreamAir_2018_Orders = \"DreamAir_2018_Orders.csv\"\n",
    "DreamAir_2018_Orders_query = \"INSERT INTO DreamAir_2018_Orders VALUES (%s, %s, %s, %s, %s, %s, %s, %s, %s)\"\n",
    "large_sql_writer(DreamAir_2018_Orders, DreamAir_2018_Orders_query)"
   ]
  },
  {
   "cell_type": "code",
   "execution_count": 21,
   "id": "34d31576-63b8-46fb-af35-13cddbb8e543",
   "metadata": {},
   "outputs": [
    {
     "name": "stdout",
     "output_type": "stream",
     "text": [
      "All 994298 rows of DreamAir_2019_Orders.csv were inserted successfully.\n"
     ]
    }
   ],
   "source": [
    "# 16\n",
    "DreamAir_2019_Orders = \"DreamAir_2019_Orders.csv\"\n",
    "DreamAir_2019_Orders_query = \"INSERT INTO DreamAir_2019_Orders VALUES (%s, %s, %s, %s, %s, %s, %s, %s, %s)\"\n",
    "large_sql_writer(DreamAir_2019_Orders, DreamAir_2019_Orders_query)"
   ]
  },
  {
   "cell_type": "code",
   "execution_count": 22,
   "id": "ddcc2e24-792c-4dff-abbd-db154f3efd95",
   "metadata": {},
   "outputs": [
    {
     "name": "stdout",
     "output_type": "stream",
     "text": [
      "All 893923 rows of DreamAir_2020_Orders.csv were inserted successfully.\n"
     ]
    }
   ],
   "source": [
    "# 17\n",
    "DreamAir_2020_Orders = \"DreamAir_2020_Orders.csv\"\n",
    "DreamAir_2020_Orders_query = \"INSERT INTO DreamAir_2020_Orders VALUES (%s, %s, %s, %s, %s, %s, %s, %s, %s)\"\n",
    "large_sql_writer(DreamAir_2020_Orders, DreamAir_2020_Orders_query)"
   ]
  },
  {
   "cell_type": "code",
   "execution_count": 23,
   "id": "6d366adc-6e34-4400-943b-f05ea9647f68",
   "metadata": {},
   "outputs": [
    {
     "name": "stdout",
     "output_type": "stream",
     "text": [
      "All 976649 rows of DreamAir_2021_Orders.csv were inserted successfully.\n"
     ]
    }
   ],
   "source": [
    "# 17\n",
    "DreamAir_2021_Orders = \"DreamAir_2021_Orders.csv\"\n",
    "DreamAir_2021_Orders_query = \"INSERT INTO DreamAir_2021_Orders VALUES (%s, %s, %s, %s, %s, %s, %s, %s, %s)\"\n",
    "large_sql_writer(DreamAir_2021_Orders, DreamAir_2021_Orders_query)"
   ]
  },
  {
   "cell_type": "code",
   "execution_count": 24,
   "id": "29124a85-a25f-4a7e-965a-8750faa42ec5",
   "metadata": {},
   "outputs": [
    {
     "name": "stdout",
     "output_type": "stream",
     "text": [
      "All 44660 rows of DreamAir_2018_Cancellations.csv were inserted successfully.\n"
     ]
    }
   ],
   "source": [
    "# 18\n",
    "DreamAir_2018_Cancellations = \"DreamAir_2018_Cancellations.csv\"\n",
    "DreamAir_2018_Cancellations_query = \"\"\"INSERT INTO DreamAir_2018_Cancellations (Orders_ID, cancellation_date) VALUES (%s, %s)\"\"\"\n",
    "large_sql_writer(DreamAir_2018_Cancellations, DreamAir_2018_Cancellations_query)"
   ]
  },
  {
   "cell_type": "code",
   "execution_count": 25,
   "id": "b8b89e98-8a85-4d03-ab87-ed9a38bf6ed8",
   "metadata": {},
   "outputs": [
    {
     "name": "stdout",
     "output_type": "stream",
     "text": [
      "All 73651 rows of DreamAir_2019_Cancellations.csv were inserted successfully.\n"
     ]
    }
   ],
   "source": [
    "# 19\n",
    "DreamAir_2019_Cancellations = \"DreamAir_2019_Cancellations.csv\"\n",
    "DreamAir_2019_Cancellations_query = \"\"\"INSERT INTO DreamAir_2019_Cancellations (Orders_ID, cancellation_date) VALUES (%s, %s)\"\"\"\n",
    "large_sql_writer(DreamAir_2019_Cancellations, DreamAir_2019_Cancellations_query)"
   ]
  },
  {
   "cell_type": "code",
   "execution_count": 26,
   "id": "15d918ab-23d8-449c-b0ce-059d255eb1f4",
   "metadata": {},
   "outputs": [
    {
     "name": "stdout",
     "output_type": "stream",
     "text": [
      "All 81265 rows of DreamAir_2020_Cancellations.csv were inserted successfully.\n"
     ]
    }
   ],
   "source": [
    "# 20\n",
    "DreamAir_2020_Cancellations = \"DreamAir_2020_Cancellations.csv\"\n",
    "DreamAir_2020_Cancellations_query = \"\"\"INSERT INTO DreamAir_2020_Cancellations (Orders_ID, cancellation_date) VALUES (%s, %s)\"\"\"\n",
    "large_sql_writer(DreamAir_2020_Cancellations, DreamAir_2020_Cancellations_query)"
   ]
  },
  {
   "cell_type": "code",
   "execution_count": 27,
   "id": "25c52b9b-9cdf-4792-a031-fb205c6008cb",
   "metadata": {},
   "outputs": [
    {
     "name": "stdout",
     "output_type": "stream",
     "text": [
      "All 55282 rows of DreamAir_2021_Cancellations.csv were inserted successfully.\n"
     ]
    }
   ],
   "source": [
    "# 20\n",
    "DreamAir_2021_Cancellations = \"DreamAir_2021_Cancellations.csv\"\n",
    "DreamAir_2021_Cancellations_query = \"\"\"INSERT INTO DreamAir_2021_Cancellations (Orders_ID, cancellation_date) VALUES (%s, %s)\"\"\"\n",
    "large_sql_writer(DreamAir_2021_Cancellations, DreamAir_2021_Cancellations_query)"
   ]
  },
  {
   "cell_type": "code",
   "execution_count": 28,
   "id": "1e4507bd-2ecd-4099-be78-4d578c10a495",
   "metadata": {},
   "outputs": [
    {
     "name": "stdout",
     "output_type": "stream",
     "text": [
      "12149 rows of DreamAir_Seat_Info.csv were inserted.\n"
     ]
    }
   ],
   "source": [
    "# 21\n",
    "DreamAir_Seat_Info = \"DreamAir_Seat_Info.csv\"\n",
    "DreamAir_Seat_Info_Query = \"INSERT INTO DreamAir_Seat_Info VALUES (%s, %s, %s)\"\n",
    "small_sql_writer(DreamAir_Seat_Info, DreamAir_Seat_Info_Query)"
   ]
  },
  {
   "cell_type": "code",
   "execution_count": 4,
   "id": "030f3bfb-8e1b-4de1-b6c4-d3aec604a104",
   "metadata": {},
   "outputs": [
    {
     "name": "stdout",
     "output_type": "stream",
     "text": [
      "5 rows of Field Expenses By Year.csv were inserted.\n"
     ]
    }
   ],
   "source": [
    "DreamAir_Seat_Info = \"Field Expenses By Year.csv\"\n",
    "DreamAir_Seat_Info_Query = \"INSERT INTO Field_Expense_Per_Year VALUES (%s, %s)\"\n",
    "small_sql_writer(DreamAir_Seat_Info, DreamAir_Seat_Info_Query)"
   ]
  },
  {
   "cell_type": "code",
   "execution_count": 5,
   "id": "a7c7dfe5-d4f1-4280-847d-380dbeb07c08",
   "metadata": {},
   "outputs": [
    {
     "name": "stdout",
     "output_type": "stream",
     "text": [
      "45 rows of Expenses by Field.csv were inserted.\n"
     ]
    }
   ],
   "source": [
    "DreamAir_Seat_Info = \"Expenses by Field.csv\"\n",
    "DreamAir_Seat_Info_Query = \"INSERT INTO Expense_by_Field VALUES (%s, %s, %s)\"\n",
    "small_sql_writer(DreamAir_Seat_Info, DreamAir_Seat_Info_Query)"
   ]
  },
  {
   "cell_type": "code",
   "execution_count": 11,
   "id": "b9fea861-eb6d-4af1-bcb0-55fde16fa3e3",
   "metadata": {},
   "outputs": [
    {
     "name": "stdout",
     "output_type": "stream",
     "text": [
      "1553 rows of Expenses Detail.csv were inserted.\n"
     ]
    }
   ],
   "source": [
    "DreamAir_Seat_Info = \"Expenses Detail.csv\"\n",
    "DreamAir_Seat_Info_Query = \"INSERT INTO Expense_detailed VALUES (%s, %s, %s, %s, %s)\"\n",
    "small_sql_writer(DreamAir_Seat_Info, DreamAir_Seat_Info_Query)"
   ]
  },
  {
   "cell_type": "code",
   "execution_count": null,
   "id": "695b92b0-65cd-4fd1-a528-06c95d503188",
   "metadata": {},
   "outputs": [],
   "source": []
  }
 ],
 "metadata": {
  "kernelspec": {
   "display_name": "Python 3 (ipykernel)",
   "language": "python",
   "name": "python3"
  },
  "language_info": {
   "codemirror_mode": {
    "name": "ipython",
    "version": 3
   },
   "file_extension": ".py",
   "mimetype": "text/x-python",
   "name": "python",
   "nbconvert_exporter": "python",
   "pygments_lexer": "ipython3",
   "version": "3.12.6"
  }
 },
 "nbformat": 4,
 "nbformat_minor": 5
}
